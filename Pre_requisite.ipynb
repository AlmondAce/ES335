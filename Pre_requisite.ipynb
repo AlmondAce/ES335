{
  "nbformat": 4,
  "nbformat_minor": 0,
  "metadata": {
    "colab": {
      "provenance": []
    },
    "kernelspec": {
      "name": "python3",
      "display_name": "Python 3"
    },
    "language_info": {
      "name": "python"
    }
  },
  "cells": [
    {
      "cell_type": "code",
      "source": [
        "import time\n",
        "import numpy\n",
        "import sympy\n",
        "import matplotlib.pyplot as plt\n",
        "import pandas as pd\n",
        "import jax"
      ],
      "metadata": {
        "id": "0s8YCd5BZN3E"
      },
      "execution_count": 130,
      "outputs": []
    },
    {
      "cell_type": "markdown",
      "source": [
        "Question 1"
      ],
      "metadata": {
        "id": "VRdSrHljUaRd"
      }
    },
    {
      "cell_type": "markdown",
      "source": [
        "We need to Perform a total of\n",
        "n*m*k Multiplications and n*m*(k-1) additions for a matrix multiplication of a n x k and a k x m matrix\n"
      ],
      "metadata": {
        "id": "6wd6O5JjUyfo"
      }
    },
    {
      "cell_type": "markdown",
      "source": [
        "\n",
        "\n",
        "---\n",
        "\n"
      ],
      "metadata": {
        "id": "1nbW5VntqKsP"
      }
    },
    {
      "cell_type": "markdown",
      "source": [
        "Question 2\n"
      ],
      "metadata": {
        "id": "s_LUSADwWDv8"
      }
    },
    {
      "cell_type": "markdown",
      "source": [
        "Let assume that we have to multiply a 2X3 and 3X5 matrix"
      ],
      "metadata": {
        "id": "JejYiiLAWZji"
      }
    },
    {
      "cell_type": "code",
      "execution_count": 131,
      "metadata": {
        "colab": {
          "base_uri": "https://localhost:8080/"
        },
        "id": "IFarbjwsRvqU",
        "outputId": "c4e6dc00-1930-4f03-d0b7-bf34acff8c4b"
      },
      "outputs": [
        {
          "output_type": "stream",
          "name": "stdout",
          "text": [
            "Result using nested loops:\n",
            "[111, 68, 38, 56, 46]\n",
            "[127, 78, 40, 78, 80]\n",
            "Time elapsed using nested loops: 0.00023 seconds\n",
            "\n",
            "Result using NumPy:\n",
            "[[111  68  38  56  46]\n",
            " [127  78  40  78  80]]\n",
            "Time elapsed using NumPy: 0.00014 seconds\n"
          ]
        }
      ],
      "source": [
        "# Dimensions of the matrices\n",
        "n = 2\n",
        "k = 3\n",
        "m = 5\n",
        "\n",
        "# Using List of Lists\n",
        "matrix1 = [[4, 3, 7], [8, 7, 1]]\n",
        "matrix2 = [[7, 3, 2, 5, 9], [9, 7, 3, 5, 1], [8, 5, 3, 3, 1]]\n",
        "\n",
        "# Initialize the result matrix with zeros\n",
        "final = [[0 for _ in range(m)] for _ in range(n)]\n",
        "\n",
        "# Matrix multiplication using nested loops\n",
        "start_time = time.time()\n",
        "\n",
        "for i in range(n):\n",
        "    for j in range(m):\n",
        "        for l in range(k):\n",
        "            final[i][j] += matrix1[i][l] * matrix2[l][j]\n",
        "\n",
        "end_time = time.time()\n",
        "\n",
        "# Print the result\n",
        "print(\"Result using nested loops:\")\n",
        "for row in final:\n",
        "    print(row)\n",
        "\n",
        "# Print the time taken\n",
        "print(f\"Time elapsed using nested loops: {round(end_time - start_time, 5)} seconds\")\n",
        "\n",
        "# Using Numpy\n",
        "matrix1 = numpy.array(matrix1)\n",
        "matrix2 = numpy.array(matrix2)\n",
        "\n",
        "# Matrix multiplication using NumPy\n",
        "start_time = time.time()\n",
        "result = numpy.dot(matrix1, matrix2)\n",
        "end_time = time.time()\n",
        "\n",
        "# Print the result using NumPy\n",
        "print(\"\\nResult using NumPy:\")\n",
        "print(result)\n",
        "\n",
        "# Print the time taken using NumPy\n",
        "print(f\"Time elapsed using NumPy: {round(end_time - start_time, 5)} seconds\")"
      ]
    },
    {
      "cell_type": "markdown",
      "source": [
        "We get a better time using numpy because numpy uses broadcasting which allows multiplication of two vectors without the use of extensive looping."
      ],
      "metadata": {
        "id": "SWesz57gbHl4"
      }
    },
    {
      "cell_type": "markdown",
      "source": [
        "\n",
        "\n",
        "---\n",
        "\n"
      ],
      "metadata": {
        "id": "K9bG0fexp7Q6"
      }
    },
    {
      "cell_type": "markdown",
      "source": [
        "Question 3"
      ],
      "metadata": {
        "id": "lZj3bkwZbxUW"
      }
    },
    {
      "cell_type": "markdown",
      "source": [
        "Using this method the time for finding the median requires n/2 passes of the array which means O(n^2/2)"
      ],
      "metadata": {
        "id": "OLLeuDQ5b0es"
      }
    },
    {
      "cell_type": "code",
      "source": [
        "array = [1, 3, 7,4, 6, 8, 5]\n",
        "k = len(array)\n",
        "start_time = time.time()\n",
        "for _ in range((len(array) // 2) + 1):\n",
        "    max_index = 0\n",
        "    for i in range(k):\n",
        "        if array[i] > array[max_index]:\n",
        "            max_index = i\n",
        "    array[max_index], array[k - 1] = array[k - 1], array[max_index]\n",
        "    k -= 1\n",
        "median = array[k]\n",
        "end_time = time.time()\n",
        "time_taken = end_time - start_time\n",
        "\n",
        "print(\"Median:\", median)\n",
        "print(\"Time Taken:\", round(time_taken, 5), \"seconds\")\n"
      ],
      "metadata": {
        "colab": {
          "base_uri": "https://localhost:8080/"
        },
        "id": "1L3IMTZfkU7O",
        "outputId": "e937dddf-7e74-4ca4-919f-ed069616ae41"
      },
      "execution_count": 132,
      "outputs": [
        {
          "output_type": "stream",
          "name": "stdout",
          "text": [
            "Median: 5\n",
            "Time Taken: 0.00016 seconds\n"
          ]
        }
      ]
    },
    {
      "cell_type": "markdown",
      "source": [
        "We can sort the array and find the middle Index of the Sorted array as median : O(nlog(n))"
      ],
      "metadata": {
        "id": "O488inHMnAx9"
      }
    },
    {
      "cell_type": "code",
      "source": [
        "array = [1, 3, 7, 4, 6, 8, 5]\n",
        "\n",
        "start_time = time.time()\n",
        "\n",
        "array.sort()\n",
        "median = array[len(array) // 2]\n",
        "\n",
        "end_time = time.time()\n",
        "time_taken = end_time - start_time\n",
        "print(\"Median:\", median)\n",
        "print(\"Time Taken:\", round(time_taken, 5), \"seconds\")\n"
      ],
      "metadata": {
        "colab": {
          "base_uri": "https://localhost:8080/"
        },
        "id": "jKKdckvHnJha",
        "outputId": "d1a9bfc2-b1e7-469f-b592-874fef67ed3b"
      },
      "execution_count": 133,
      "outputs": [
        {
          "output_type": "stream",
          "name": "stdout",
          "text": [
            "Median: 5\n",
            "Time Taken: 0.00014 seconds\n"
          ]
        }
      ]
    },
    {
      "cell_type": "markdown",
      "source": [
        "Using Median from numpy"
      ],
      "metadata": {
        "id": "N8_ywh_ApgVA"
      }
    },
    {
      "cell_type": "code",
      "source": [
        "array = [1, 3, 7, 4, 6, 8, 5]\n",
        "\n",
        "start_time = time.time()\n",
        "\n",
        "median = numpy.median(array)\n",
        "\n",
        "end_time = time.time()\n",
        "time_taken = end_time - start_time\n",
        "print(\"Median:\", median)\n",
        "print(\"Time Taken:\", round(time_taken, 5), \"seconds\")\n"
      ],
      "metadata": {
        "colab": {
          "base_uri": "https://localhost:8080/"
        },
        "id": "fsREO7ijpqKY",
        "outputId": "36509ed5-bd98-4fed-d0a4-f5ddb3d486da"
      },
      "execution_count": 134,
      "outputs": [
        {
          "output_type": "stream",
          "name": "stdout",
          "text": [
            "Median: 5.0\n",
            "Time Taken: 0.00042 seconds\n"
          ]
        }
      ]
    },
    {
      "cell_type": "markdown",
      "source": [
        "Turns out that numpy.median() is the fastest of all"
      ],
      "metadata": {
        "id": "2IxtPWIxqDCg"
      }
    },
    {
      "cell_type": "markdown",
      "source": [
        "\n",
        "\n",
        "---\n",
        "\n"
      ],
      "metadata": {
        "id": "o_Z1kSqQp_y3"
      }
    },
    {
      "cell_type": "markdown",
      "source": [
        "Question 4\n"
      ],
      "metadata": {
        "id": "qu4DtNgrqOEU"
      }
    },
    {
      "cell_type": "code",
      "source": [
        "import jax.numpy as jnp\n",
        "from sympy import symbols, sin, diff, lambdify\n",
        "\n",
        "x, y = symbols('x y')\n",
        "f_sympy = (x**2) * y + sin(x) * y**3\n",
        "\n",
        "gradient_x = diff(f_sympy, x)\n",
        "gradient_y = diff(f_sympy, y)\n",
        "\n",
        "print(f\"Gradient with respect to x = δf/δx = {gradient_x}\\nGradient with respect to y = δf/δy = {gradient_y}\")"
      ],
      "metadata": {
        "colab": {
          "base_uri": "https://localhost:8080/"
        },
        "id": "bfhhPa7wws9Z",
        "outputId": "3ccbe873-69b1-4c7f-b05c-90040d3b6393"
      },
      "execution_count": 135,
      "outputs": [
        {
          "output_type": "stream",
          "name": "stdout",
          "text": [
            "Gradient with respect to x = δf/δx = 2*x*y + y**3*cos(x)\n",
            "Gradient with respect to y = δf/δy = x**2 + 3*y**2*sin(x)\n"
          ]
        }
      ]
    },
    {
      "cell_type": "markdown",
      "source": [
        "\n",
        "\n",
        "---\n",
        "\n"
      ],
      "metadata": {
        "id": "F7KbER6wxft7"
      }
    },
    {
      "cell_type": "markdown",
      "source": [
        "Question 5, 6"
      ],
      "metadata": {
        "id": "tSjOcFH4xiTZ"
      }
    },
    {
      "cell_type": "code",
      "source": [
        "# Convert symbolic expressions to numerical functions\n",
        "f_sympy_numeric = lambdify((x, y), f_sympy)\n",
        "gradient_x_numeric = lambdify((x, y), gradient_x)\n",
        "gradient_y_numeric = lambdify((x, y), gradient_y)\n",
        "\n",
        "# Define the function using JAX\n",
        "def f_jax(x, y):\n",
        "    return (x**2) * y + jnp.sin(x) * y**3\n",
        "\n",
        "# Cast inputs to float32\n",
        "x_gradients = numpy.random.randint(1, 21, size=10).astype('float32')\n",
        "y_gradients = numpy.random.randint(1, 21, size=10).astype('float32')\n",
        "\n",
        "# Compute the JAX gradients\n",
        "jax_gradient = jax.grad(f_jax, argnums=(0, 1))\n",
        "\n",
        "# Compare gradients\n",
        "for i in range(10):\n",
        "    result_jax = jax_gradient(x_gradients[i], y_gradients[i])\n",
        "    result_sympy = (gradient_x_numeric(x_gradients[i], y_gradients[i]),\n",
        "                    gradient_y_numeric(x_gradients[i], y_gradients[i]))\n",
        "\n",
        "    if not numpy.allclose(result_jax, result_sympy):\n",
        "        print(\"The results are different\")\n",
        "        break\n",
        "\n",
        "print(\"\\nBoth the gradients come out to be the same for random values of x and y\")"
      ],
      "metadata": {
        "colab": {
          "base_uri": "https://localhost:8080/"
        },
        "id": "rWcZfALsxcDc",
        "outputId": "ebfcf634-874f-482b-bd5f-7d13cdbc8aac"
      },
      "execution_count": 136,
      "outputs": [
        {
          "output_type": "stream",
          "name": "stdout",
          "text": [
            "\n",
            "Both the gradients come out to be the same for random values of x and y\n"
          ]
        }
      ]
    },
    {
      "cell_type": "markdown",
      "source": [
        "\n",
        "\n",
        "---\n",
        "\n"
      ],
      "metadata": {
        "id": "sBTzDxepxl_y"
      }
    },
    {
      "cell_type": "markdown",
      "source": [
        "Question 7"
      ],
      "metadata": {
        "id": "fk8AiWHLxmlQ"
      }
    },
    {
      "cell_type": "code",
      "source": [
        "Batches = {\n",
        "    2022:{\n",
        "        \"Branch 1\":{\n",
        "            \"Roll Number\":1,\n",
        "            \"Name\":\"N\",\n",
        "            \"Marks\":{\n",
        "                \"Maths\" : 100,\n",
        "                \"English\" : 70\n",
        "            }\n",
        "        },\n",
        "        \"Branch 2\":{}\n",
        "    },\n",
        "    2023:{\n",
        "        \"Branch 1\":{},\n",
        "        \"Branch 2\":{}\n",
        "    },\n",
        "    2024:{\n",
        "        \"Branch 1\":{},\n",
        "        \"Branch 2\":{}\n",
        "    },\n",
        "    2025:{\n",
        "        \"Branch 1\":{},\n",
        "        \"Branch 2\":{}\n",
        "    }\n",
        "}"
      ],
      "metadata": {
        "id": "oB-HNF7SE7n_"
      },
      "execution_count": 137,
      "outputs": []
    },
    {
      "cell_type": "markdown",
      "source": [
        "\n",
        "\n",
        "---\n",
        "\n"
      ],
      "metadata": {
        "id": "TWhrfAAbL5VR"
      }
    },
    {
      "cell_type": "markdown",
      "source": [
        "Question 8"
      ],
      "metadata": {
        "id": "d10A_dDsL5If"
      }
    },
    {
      "cell_type": "code",
      "source": [
        "class Database:\n",
        "    def __init__(self):\n",
        "        self.years = []\n",
        "\n",
        "    def addyear(self, year):\n",
        "        self.years.append(year)\n",
        "\n",
        "    def __str__(self):\n",
        "        years_str = '\\n'.join(str(year) for year in self.years)\n",
        "        return f\"Database\\n{years_str}\"\n",
        "\n",
        "class Year:\n",
        "    def __init__(self, year):\n",
        "        self.year = year\n",
        "        self.branches = []\n",
        "\n",
        "    def addbranches(self, branch):\n",
        "        self.branches.append(branch)\n",
        "\n",
        "    def __str__(self):\n",
        "        branches_str = '\\n'.join(f\"  {branch}\" for branch in self.branches)\n",
        "        return f\"{self.year}\\n{branches_str}\"\n",
        "\n",
        "class Branch:\n",
        "    def __init__(self, branch):\n",
        "        self.branch = branch\n",
        "        self.students = []\n",
        "\n",
        "    def addstudent(self, student):\n",
        "        self.students.append(student)\n",
        "\n",
        "    def __str__(self):\n",
        "        students_str = '\\n'.join(f\"    {student}\" for student in self.students)\n",
        "        return f\"{self.branch}\\n{students_str}\"\n",
        "\n",
        "class Student:\n",
        "    def __init__(self, Rollno, Name, Marks):\n",
        "        self.Name = Name\n",
        "        self.Rollno = Rollno\n",
        "        self.Marks = Marks\n",
        "\n",
        "    def __str__(self):\n",
        "        return f\"Roll Number: {self.Rollno}, Name: {self.Name}, Marks: {self.Marks}\"\n",
        "\n",
        "db = Database()\n",
        "\n",
        "# Adding data for the year 2022\n",
        "year_2022 = Year(2022)\n",
        "year_2023 = Year(2023)\n",
        "year_2024 = Year(2024)\n",
        "year_2025 = Year(2025)\n",
        "\n",
        "\n",
        "branch_1_2022 = Branch(\"Branch 1\")\n",
        "branch_1_2022.addstudent(Student(1, \"N\", {\"Maths\": 100, \"English\": 70}))\n",
        "\n",
        "branch_2_2022 = Branch(\"Branch 2\")\n",
        "\n",
        "year_2022.addbranches(branch_1_2022)\n",
        "year_2022.addbranches(branch_2_2022)\n",
        "\n",
        "branch_1_2023 = Branch(\"Branch 1\")\n",
        "branch_2_2023 = Branch(\"Branch 2\")\n",
        "year_2023.addbranches(branch_1_2023)\n",
        "year_2023.addbranches(branch_2_2023)\n",
        "\n",
        "\n",
        "branch_1_2024 = Branch(\"Branch 1\")\n",
        "branch_2_2024 = Branch(\"Branch 2\")\n",
        "year_2024.addbranches(branch_1_2024)\n",
        "year_2024.addbranches(branch_2_2024)\n",
        "\n",
        "branch_1_2025 = Branch(\"Branch 1\")\n",
        "branch_2_2025 = Branch(\"Branch 2\")\n",
        "year_2025.addbranches(branch_1_2025)\n",
        "year_2025.addbranches(branch_2_2025)\n",
        "\n",
        "db.addyear(year_2022)\n",
        "db.addyear(year_2023)\n",
        "db.addyear(year_2024)\n",
        "db.addyear(year_2025)\n",
        "\n",
        "# Displaying the database\n",
        "print(db)\n"
      ],
      "metadata": {
        "colab": {
          "base_uri": "https://localhost:8080/"
        },
        "id": "_ADr2eLBL43v",
        "outputId": "df1eb79d-3c71-4e38-f2b8-7cf83ae3c90a"
      },
      "execution_count": 138,
      "outputs": [
        {
          "output_type": "stream",
          "name": "stdout",
          "text": [
            "Database\n",
            "2022\n",
            "  Branch 1\n",
            "    Roll Number: 1, Name: N, Marks: {'Maths': 100, 'English': 70}\n",
            "  Branch 2\n",
            "\n",
            "2023\n",
            "  Branch 1\n",
            "\n",
            "  Branch 2\n",
            "\n",
            "2024\n",
            "  Branch 1\n",
            "\n",
            "  Branch 2\n",
            "\n",
            "2025\n",
            "  Branch 1\n",
            "\n",
            "  Branch 2\n",
            "\n"
          ]
        }
      ]
    },
    {
      "cell_type": "markdown",
      "source": [
        "\n",
        "\n",
        "---\n",
        "\n"
      ],
      "metadata": {
        "id": "nvQNMHXjPziR"
      }
    },
    {
      "cell_type": "markdown",
      "source": [
        "Question 9\n"
      ],
      "metadata": {
        "id": "HevQ53o7P1tl"
      }
    },
    {
      "cell_type": "code",
      "source": [
        "x_values = numpy.arange(0.5 , 100  ,0.5)\n",
        "from numpy import sin,log,e"
      ],
      "metadata": {
        "id": "IGvuZz3WP4lB"
      },
      "execution_count": 139,
      "outputs": []
    },
    {
      "cell_type": "markdown",
      "source": [
        "1) y = x"
      ],
      "metadata": {
        "id": "AR3ZnK2-QupW"
      }
    },
    {
      "cell_type": "code",
      "source": [
        "y_values = x_values\n",
        "plt.grid()\n",
        "plt.plot(x_values,y_values)\n",
        "plt.show()"
      ],
      "metadata": {
        "colab": {
          "base_uri": "https://localhost:8080/",
          "height": 430
        },
        "id": "5Jh74U0RQbiB",
        "outputId": "0ccc70cb-d093-43c7-b662-59f8eaa621eb"
      },
      "execution_count": 140,
      "outputs": [
        {
          "output_type": "display_data",
          "data": {
            "text/plain": [
              "<Figure size 640x480 with 1 Axes>"
            ],
            "image/png": "[encoded data removed]"
          },
          "metadata": {}
        }
      ]
    },
    {
      "cell_type": "markdown",
      "source": [
        "2) y = x^2"
      ],
      "metadata": {
        "id": "Ra6coFaFQ0Z2"
      }
    },
    {
      "cell_type": "code",
      "source": [
        "y_values = x_values**2\n",
        "plt.grid()\n",
        "plt.plot(x_values,y_values)\n",
        "plt.show()"
      ],
      "metadata": {
        "colab": {
          "base_uri": "https://localhost:8080/",
          "height": 430
        },
        "id": "XZ8q39z_Q3Z0",
        "outputId": "5c7f8dfa-9758-4e00-c9fa-92dcc7502d34"
      },
      "execution_count": 141,
      "outputs": [
        {
          "output_type": "display_data",
          "data": {
            "text/plain": [
              "<Figure size 640x480 with 1 Axes>"
            ],
            "image/png": "[encoded data removed]"
          },
          "metadata": {}
        }
      ]
    },
    {
      "cell_type": "markdown",
      "source": [
        "3) y = x^3/100"
      ],
      "metadata": {
        "id": "cks0azaCQ32j"
      }
    },
    {
      "cell_type": "code",
      "source": [
        "y_values = x_values**3/100\n",
        "plt.grid()\n",
        "plt.plot(x_values,y_values)\n",
        "plt.show()"
      ],
      "metadata": {
        "colab": {
          "base_uri": "https://localhost:8080/",
          "height": 430
        },
        "id": "ZFOB7W82Q7YJ",
        "outputId": "3bf8e79e-6c20-4af6-ca27-4c33029c2348"
      },
      "execution_count": 142,
      "outputs": [
        {
          "output_type": "display_data",
          "data": {
            "text/plain": [
              "<Figure size 640x480 with 1 Axes>"
            ],
            "image/png": "[encoded data removed]"
          },
          "metadata": {}
        }
      ]
    },
    {
      "cell_type": "markdown",
      "source": [
        "4) y = sin(x)"
      ],
      "metadata": {
        "id": "g35Q0qktQ7rR"
      }
    },
    {
      "cell_type": "code",
      "source": [
        "y_values = sin(x_values)\n",
        "plt.grid()\n",
        "plt.plot(x_values,y_values)\n",
        "plt.show()"
      ],
      "metadata": {
        "colab": {
          "base_uri": "https://localhost:8080/",
          "height": 430
        },
        "id": "VKx4lbShQ_9u",
        "outputId": "61a77eed-c621-4a94-b802-733140e5f916"
      },
      "execution_count": 143,
      "outputs": [
        {
          "output_type": "display_data",
          "data": {
            "text/plain": [
              "<Figure size 640x480 with 1 Axes>"
            ],
            "image/png": "[encoded data removed]"
          },
          "metadata": {}
        }
      ]
    },
    {
      "cell_type": "markdown",
      "source": [
        "5) y = sin(x)/x"
      ],
      "metadata": {
        "id": "ts9xCRngRARR"
      }
    },
    {
      "cell_type": "code",
      "source": [
        "y_values = sin(x_values)/x_values\n",
        "plt.grid()\n",
        "plt.plot(x_values,y_values)\n",
        "plt.show()"
      ],
      "metadata": {
        "colab": {
          "base_uri": "https://localhost:8080/",
          "height": 430
        },
        "id": "b6M-q31fRDZj",
        "outputId": "ac125ee6-9fd7-499b-c019-a058d7a9f549"
      },
      "execution_count": 144,
      "outputs": [
        {
          "output_type": "display_data",
          "data": {
            "text/plain": [
              "<Figure size 640x480 with 1 Axes>"
            ],
            "image/png": "[encoded data removed]"
          },
          "metadata": {}
        }
      ]
    },
    {
      "cell_type": "markdown",
      "source": [
        "6) y = log(x)"
      ],
      "metadata": {
        "id": "jYMrU4PjRDmU"
      }
    },
    {
      "cell_type": "code",
      "source": [
        "y_values = log(x_values)\n",
        "plt.grid()\n",
        "plt.plot(x_values,y_values)\n",
        "plt.show()"
      ],
      "metadata": {
        "colab": {
          "base_uri": "https://localhost:8080/",
          "height": 430
        },
        "id": "pRvJFf9ERHl0",
        "outputId": "656cf7a0-39ec-41a1-f09a-fc64fda340d7"
      },
      "execution_count": 145,
      "outputs": [
        {
          "output_type": "display_data",
          "data": {
            "text/plain": [
              "<Figure size 640x480 with 1 Axes>"
            ],
            "image/png": "[encoded data removed]"
          },
          "metadata": {}
        }
      ]
    },
    {
      "cell_type": "markdown",
      "source": [
        "7)y = e^x"
      ],
      "metadata": {
        "id": "lDX2I8-jRH9H"
      }
    },
    {
      "cell_type": "code",
      "source": [
        "y_values = e**(x_values)\n",
        "plt.grid()\n",
        "plt.plot(x_values,y_values)\n",
        "plt.show()"
      ],
      "metadata": {
        "colab": {
          "base_uri": "https://localhost:8080/",
          "height": 445
        },
        "id": "q3x18nVhRKhS",
        "outputId": "d731d899-a9cf-4fc9-d49c-0df023c98f03"
      },
      "execution_count": 146,
      "outputs": [
        {
          "output_type": "display_data",
          "data": {
            "text/plain": [
              "<Figure size 640x480 with 1 Axes>"
            ],
            "image/png": "[encoded data removed]"
          },
          "metadata": {}
        }
      ]
    },
    {
      "cell_type": "markdown",
      "source": [
        "\n",
        "\n",
        "---\n",
        "\n"
      ],
      "metadata": {
        "id": "E6MKrsT4RK69"
      }
    },
    {
      "cell_type": "markdown",
      "source": [
        "Question 10"
      ],
      "metadata": {
        "id": "WZc87P7aSO1O"
      }
    },
    {
      "cell_type": "code",
      "source": [
        "matrix = numpy.random.uniform(1, 2, size=(20, 5))\n",
        "names = [\"a\" , \"b\" , \"c\" , \"d\" , \"e\"]\n",
        "df = pd.DataFrame(matrix , columns=names)\n",
        "\n",
        "highstd = df.std().idxmax()\n",
        "print(f\"Column with the highest standard deviation: {highstd}\")\n",
        "\n",
        "lowmean = df.mean(axis=1).idxmin()\n",
        "print(f\"Row with the lowest mean: {lowmean}\")"
      ],
      "metadata": {
        "colab": {
          "base_uri": "https://localhost:8080/"
        },
        "id": "X4Ad9xwGSSfK",
        "outputId": "977f081d-ba1c-4d42-9ae9-6acac78b819d"
      },
      "execution_count": 147,
      "outputs": [
        {
          "output_type": "stream",
          "name": "stdout",
          "text": [
            "Column with the highest standard deviation: e\n",
            "Row with the lowest mean: 16\n"
          ]
        }
      ]
    },
    {
      "cell_type": "markdown",
      "source": [
        "\n",
        "\n",
        "---\n",
        "\n"
      ],
      "metadata": {
        "id": "-zLEVTZGXAtk"
      }
    },
    {
      "cell_type": "markdown",
      "source": [
        "Question 11"
      ],
      "metadata": {
        "id": "zBmOpkW4XBWJ"
      }
    },
    {
      "cell_type": "code",
      "source": [
        "df['f'] = df[['a', 'b', 'c', 'd', 'e']].sum(axis=1)\n",
        "\n",
        "df['g'] = numpy.where(df['f'] < 8, 'LT8', 'GT8')\n",
        "\n",
        "count = df[df['g'] == 'LT8'].shape[0]\n",
        "print(f\"Number of rows where 'g' is 'LT8': {count}\")\n",
        "\n",
        "# Calculate the standard deviation of column \"f\" for rows where \"g\" is \"LT8\" and \"GT8\"\n",
        "stdlt8 = df.loc[df['g'] == 'LT8', 'f'].std()\n",
        "stdgt8 = df.loc[df['g'] == 'GT8', 'f'].std()\n",
        "\n",
        "print(f\"Standard deviation of 'f' for 'LT8' rows: {stdlt8}\")\n",
        "print(f\"Standard deviation of 'f' for 'GT8' rows: {stdgt8}\")\n",
        "print(df)"
      ],
      "metadata": {
        "colab": {
          "base_uri": "https://localhost:8080/"
        },
        "id": "Rqe5DXwCXAIy",
        "outputId": "5b048cb3-524f-4df8-96bb-3cca1b4c1b4c"
      },
      "execution_count": 148,
      "outputs": [
        {
          "output_type": "stream",
          "name": "stdout",
          "text": [
            "Number of rows where 'g' is 'LT8': 16\n",
            "Standard deviation of 'f' for 'LT8' rows: 0.5726558855684494\n",
            "Standard deviation of 'f' for 'GT8' rows: 0.22305562610383045\n",
            "           a         b         c         d         e         f    g\n",
            "0   1.483755  1.269911  1.539843  1.162014  1.841530  7.297052  LT8\n",
            "1   1.846408  1.955236  1.154672  1.623333  1.474237  8.053886  GT8\n",
            "2   1.344384  1.351540  1.412794  1.704926  1.598286  7.411929  LT8\n",
            "3   1.459682  1.075933  1.077765  1.002339  1.967699  6.583419  LT8\n",
            "4   1.005254  1.103094  1.314597  1.807430  1.962099  7.192473  LT8\n",
            "5   1.790014  1.690560  1.521301  1.086705  1.958171  8.046750  GT8\n",
            "6   1.758392  1.638949  1.759036  1.724103  1.637232  8.517713  GT8\n",
            "7   1.980577  1.903364  1.646665  1.693175  1.051596  8.275377  GT8\n",
            "8   1.669917  1.044165  1.588264  1.999353  1.555807  7.857507  LT8\n",
            "9   1.473210  1.312855  1.120523  1.731024  1.192599  6.830210  LT8\n",
            "10  1.115282  1.421763  1.795342  1.745065  1.054883  7.132334  LT8\n",
            "11  1.455144  1.522435  1.644547  1.650167  1.364697  7.636990  LT8\n",
            "12  1.560677  1.481062  1.884998  1.530265  1.441032  7.898035  LT8\n",
            "13  1.404485  1.572428  1.803977  1.538401  1.661655  7.980947  LT8\n",
            "14  1.737856  1.520168  1.426817  1.876665  1.417506  7.979012  LT8\n",
            "15  1.461943  1.990341  1.000238  1.185473  1.383964  7.021958  LT8\n",
            "16  1.932590  1.070030  1.009485  1.052684  1.088543  6.153332  LT8\n",
            "17  1.037597  1.479781  1.580757  1.271687  1.398287  6.768110  LT8\n",
            "18  1.091699  1.336370  1.522519  1.732272  1.003346  6.686207  LT8\n",
            "19  1.467311  1.297003  1.852822  1.715553  1.589109  7.921797  LT8\n"
          ]
        }
      ]
    },
    {
      "cell_type": "markdown",
      "source": [
        "\n",
        "\n",
        "---\n",
        "\n"
      ],
      "metadata": {
        "id": "izptOGmRZU9V"
      }
    },
    {
      "cell_type": "markdown",
      "source": [
        "Question 12"
      ],
      "metadata": {
        "id": "aVylgpn7ZXJH"
      }
    },
    {
      "cell_type": "code",
      "source": [
        "array1 = numpy.array([1,3,2,4,5])\n",
        "array2 = numpy.array([5,4,2,6,8])\n",
        "array3 = numpy.array([[4,3,5,1,1],[6,5,3,7,7]])\n",
        "\n",
        "print(f\"This will add coresponding elements of the arrays to give a new array\\n{array1+array2}\")\n",
        "print(f\"This will multiply all number in the array1 by 5\\n{array1*5}\")\n",
        "print(f\"This will add all number in the array by 5\\n{array1+5}\")\n",
        "print(f\"This will multiply each element of array1 with the corresponding element of array2\\n{array1*array2}\")\n",
        "print(f\"This will make a copy of a row in array 1 to match the size of array 3 and then add them\\n{array1+array3}\")"
      ],
      "metadata": {
        "colab": {
          "base_uri": "https://localhost:8080/"
        },
        "id": "tJqPZokFZYv4",
        "outputId": "9f7e1a36-dc68-4380-9e82-634f957e535d"
      },
      "execution_count": 149,
      "outputs": [
        {
          "output_type": "stream",
          "name": "stdout",
          "text": [
            "This will add coresponding elements of the arrays to give a new array\n",
            "[ 6  7  4 10 13]\n",
            "This will multiply all number in the array1 by 5\n",
            "[ 5 15 10 20 25]\n",
            "This will add all number in the array by 5\n",
            "[ 6  8  7  9 10]\n",
            "This will multiply each element of array1 with the corresponding element of array2\n",
            "[ 5 12  4 24 40]\n",
            "This will make a copy of a row in array 1 to match the size of array 3 and then add them\n",
            "[[ 5  6  7  5  6]\n",
            " [ 7  8  5 11 12]]\n"
          ]
        }
      ]
    },
    {
      "cell_type": "markdown",
      "source": [
        "\n",
        "\n",
        "---\n",
        "\n"
      ],
      "metadata": {
        "id": "SzHWyMaScgZ2"
      }
    },
    {
      "cell_type": "markdown",
      "source": [
        "Question 13"
      ],
      "metadata": {
        "id": "UbZ65_e4chol"
      }
    },
    {
      "cell_type": "code",
      "source": [
        "def argmin(arr, axis=3):\n",
        "    if not isinstance(arr, (list, np.ndarray)):\n",
        "        raise ValueError(\"Input must be a list or a NumPy array\")\n",
        "    if axis == 3:\n",
        "        min_val = float('inf')\n",
        "        min_index = None\n",
        "        for i, val in enumerate(arr):\n",
        "            if val < min_val:\n",
        "                min_val = val\n",
        "                min_index = i\n",
        "\n",
        "        return min_index\n",
        "    else:\n",
        "        if not isinstance(arr, np.ndarray):\n",
        "            arr = np.array(arr)\n",
        "\n",
        "        if axis == 0:\n",
        "            result = np.argmin(arr, axis=axis)\n",
        "        elif axis == 1:\n",
        "            result = np.argmin(arr, axis=axis)\n",
        "        else:\n",
        "            raise ValueError(\"Invalid axis value. Only axis=0 and axis=1 are supported for 2D arrays.\")\n",
        "\n",
        "        return result.tolist()\n",
        "\n",
        "# Example usage\n",
        "print(\"For 1D Array-\\n\")\n",
        "arr_1d = [4, 2, 7, 1, 5, 0]\n",
        "min_index_1d = argmin(arr_1d)\n",
        "print(\"Index of minimum value in the 1D array:\", min_index_1d)\n",
        "\n",
        "min_index = np.argmin(arr_1d)\n",
        "print(\"Index of minimum value in the 1D array by Numpy:\", min_index)\n",
        "\n",
        "print(\"\\nFor 2D Array-\")\n",
        "arr_2d = np.array([[4, 2, 7],\n",
        "                   [1, 5, 0]])\n",
        "min_indices_2d_axis0 = argmin(arr_2d, axis=0)\n",
        "min_indices_2d_axis1 = argmin(arr_2d, axis=1)\n",
        "print(\"\\nIndices of minimum values along axis 0:\", min_indices_2d_axis0)\n",
        "print(\"Indices of minimum values along axis 1:\", min_indices_2d_axis1)\n",
        "\n",
        "#Verification\n",
        "min_indices_axis_0 = np.argmin(arr_2d, axis=0)\n",
        "min_indices_axis_1 = np.argmin(arr_2d, axis=1)\n",
        "\n",
        "print(\"\\nIndices of minimum values along axis 0 by numpy:\", min_indices_axis_0)\n",
        "print(\"Indices of minimum values along axis 1 by numpy:\", min_indices_axis_1)"
      ],
      "metadata": {
        "colab": {
          "base_uri": "https://localhost:8080/"
        },
        "id": "sZ2cm_z6cjr8",
        "outputId": "91975b18-6f36-43ba-be56-4b2582b40552"
      },
      "execution_count": 150,
      "outputs": [
        {
          "output_type": "stream",
          "name": "stdout",
          "text": [
            "For 1D Array-\n",
            "\n",
            "Index of minimum value in the 1D array: 5\n",
            "Index of minimum value in the 1D array by Numpy: 5\n",
            "\n",
            "For 2D Array-\n",
            "\n",
            "Indices of minimum values along axis 0: [1, 0, 1]\n",
            "Indices of minimum values along axis 1: [1, 2]\n",
            "\n",
            "Indices of minimum values along axis 0 by numpy: [1 0 1]\n",
            "Indices of minimum values along axis 1 by numpy: [1 2]\n"
          ]
        }
      ]
    }
  ]
}